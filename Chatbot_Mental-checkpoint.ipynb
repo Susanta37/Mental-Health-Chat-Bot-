{
 "cells": [
  {
   "cell_type": "code",
   "execution_count": 21,
   "id": "ad2211e4",
   "metadata": {},
   "outputs": [],
   "source": [
    "# This Python 3 environment comes with many helpful analytics libraries installed\n",
    "# It is defined by the kaggle/python Docker image: https://github.com/kaggle/docker-python\n",
    "# For example, here's several helpful packages to load\n",
    "\n",
    "import numpy as np # linear algebra\n",
    "import pandas as pd # data processing, CSV file I/O (e.g. pd.read_csv)\n",
    "\n",
    "# Input data files are available in the read-only \"../input/\" directory\n",
    "# For example, running this (by clicking run or pressing Shift+Enter) will list all files under the input directory\n",
    "\n",
    "import os\n",
    "for dirname, _, filenames in os.walk('intents.json'):\n",
    "    for filename in filenames:\n",
    "        print(os.path.join(dirname, filename))"
   ]
  },
  {
   "cell_type": "code",
   "execution_count": 22,
   "id": "1106f9bc",
   "metadata": {},
   "outputs": [
    {
     "data": {
      "text/html": [
       "<div>\n",
       "<style scoped>\n",
       "    .dataframe tbody tr th:only-of-type {\n",
       "        vertical-align: middle;\n",
       "    }\n",
       "\n",
       "    .dataframe tbody tr th {\n",
       "        vertical-align: top;\n",
       "    }\n",
       "\n",
       "    .dataframe thead th {\n",
       "        text-align: right;\n",
       "    }\n",
       "</style>\n",
       "<table border=\"1\" class=\"dataframe\">\n",
       "  <thead>\n",
       "    <tr style=\"text-align: right;\">\n",
       "      <th></th>\n",
       "      <th>tag</th>\n",
       "      <th>patterns</th>\n",
       "      <th>responses</th>\n",
       "    </tr>\n",
       "  </thead>\n",
       "  <tbody>\n",
       "    <tr>\n",
       "      <th>0</th>\n",
       "      <td>greeting</td>\n",
       "      <td>[Hi, Hii, Hy, Hey, Hello, Hlo, helo, Is anyone...</td>\n",
       "      <td>[Hello there. Welcome to MindCouncel ,Tell me ...</td>\n",
       "    </tr>\n",
       "    <tr>\n",
       "      <th>1</th>\n",
       "      <td>morning</td>\n",
       "      <td>[Good morning, Morning, Hii, Hi]</td>\n",
       "      <td>[Good morning! I hope you're ready to tackle t...</td>\n",
       "    </tr>\n",
       "    <tr>\n",
       "      <th>2</th>\n",
       "      <td>afternoon</td>\n",
       "      <td>[Good afternoon]</td>\n",
       "      <td>[Good afternoon. How is your day going?]</td>\n",
       "    </tr>\n",
       "    <tr>\n",
       "      <th>3</th>\n",
       "      <td>evening</td>\n",
       "      <td>[Good evening]</td>\n",
       "      <td>[Good evening. How has your day been?]</td>\n",
       "    </tr>\n",
       "    <tr>\n",
       "      <th>4</th>\n",
       "      <td>night</td>\n",
       "      <td>[Good night]</td>\n",
       "      <td>[Good night. Get some proper sleep, Good night...</td>\n",
       "    </tr>\n",
       "    <tr>\n",
       "      <th>...</th>\n",
       "      <td>...</td>\n",
       "      <td>...</td>\n",
       "      <td>...</td>\n",
       "    </tr>\n",
       "    <tr>\n",
       "      <th>76</th>\n",
       "      <td>fact-28</td>\n",
       "      <td>[What do I do if I'm worried about my mental h...</td>\n",
       "      <td>[The most important thing is to talk to someon...</td>\n",
       "    </tr>\n",
       "    <tr>\n",
       "      <th>77</th>\n",
       "      <td>fact-29</td>\n",
       "      <td>[How do I know if I'm unwell?]</td>\n",
       "      <td>[If your beliefs , thoughts , feelings or beha...</td>\n",
       "    </tr>\n",
       "    <tr>\n",
       "      <th>78</th>\n",
       "      <td>fact-30</td>\n",
       "      <td>[How can I maintain social connections? What i...</td>\n",
       "      <td>[A lot of people are alone right now, but we d...</td>\n",
       "    </tr>\n",
       "    <tr>\n",
       "      <th>79</th>\n",
       "      <td>fact-31</td>\n",
       "      <td>[What's the difference between anxiety and str...</td>\n",
       "      <td>[Stress and anxiety are often used interchange...</td>\n",
       "    </tr>\n",
       "    <tr>\n",
       "      <th>80</th>\n",
       "      <td>fact-32</td>\n",
       "      <td>[What's the difference between sadness and dep...</td>\n",
       "      <td>[Sadness is a normal reaction to a loss, disap...</td>\n",
       "    </tr>\n",
       "  </tbody>\n",
       "</table>\n",
       "<p>81 rows × 3 columns</p>\n",
       "</div>"
      ],
      "text/plain": [
       "          tag                                           patterns  \\\n",
       "0    greeting  [Hi, Hii, Hy, Hey, Hello, Hlo, helo, Is anyone...   \n",
       "1     morning                   [Good morning, Morning, Hii, Hi]   \n",
       "2   afternoon                                   [Good afternoon]   \n",
       "3     evening                                     [Good evening]   \n",
       "4       night                                       [Good night]   \n",
       "..        ...                                                ...   \n",
       "76    fact-28  [What do I do if I'm worried about my mental h...   \n",
       "77    fact-29                     [How do I know if I'm unwell?]   \n",
       "78    fact-30  [How can I maintain social connections? What i...   \n",
       "79    fact-31  [What's the difference between anxiety and str...   \n",
       "80    fact-32  [What's the difference between sadness and dep...   \n",
       "\n",
       "                                            responses  \n",
       "0   [Hello there. Welcome to MindCouncel ,Tell me ...  \n",
       "1   [Good morning! I hope you're ready to tackle t...  \n",
       "2            [Good afternoon. How is your day going?]  \n",
       "3              [Good evening. How has your day been?]  \n",
       "4   [Good night. Get some proper sleep, Good night...  \n",
       "..                                                ...  \n",
       "76  [The most important thing is to talk to someon...  \n",
       "77  [If your beliefs , thoughts , feelings or beha...  \n",
       "78  [A lot of people are alone right now, but we d...  \n",
       "79  [Stress and anxiety are often used interchange...  \n",
       "80  [Sadness is a normal reaction to a loss, disap...  \n",
       "\n",
       "[81 rows x 3 columns]"
      ]
     },
     "execution_count": 22,
     "metadata": {},
     "output_type": "execute_result"
    }
   ],
   "source": [
    "import json\n",
    "\n",
    "with open('intents.json', 'r') as f:\n",
    "    data = json.load(f)\n",
    "\n",
    "df = pd.DataFrame(data['intents'])\n",
    "df"
   ]
  },
  {
   "cell_type": "code",
   "execution_count": 23,
   "id": "6850fed2",
   "metadata": {},
   "outputs": [
    {
     "data": {
      "text/html": [
       "<div>\n",
       "<style scoped>\n",
       "    .dataframe tbody tr th:only-of-type {\n",
       "        vertical-align: middle;\n",
       "    }\n",
       "\n",
       "    .dataframe tbody tr th {\n",
       "        vertical-align: top;\n",
       "    }\n",
       "\n",
       "    .dataframe thead th {\n",
       "        text-align: right;\n",
       "    }\n",
       "</style>\n",
       "<table border=\"1\" class=\"dataframe\">\n",
       "  <thead>\n",
       "    <tr style=\"text-align: right;\">\n",
       "      <th></th>\n",
       "      <th>tag</th>\n",
       "      <th>patterns</th>\n",
       "      <th>responses</th>\n",
       "    </tr>\n",
       "  </thead>\n",
       "  <tbody>\n",
       "    <tr>\n",
       "      <th>0</th>\n",
       "      <td>greeting</td>\n",
       "      <td>Hi</td>\n",
       "      <td>[Hello there. Welcome to MindCouncel ,Tell me ...</td>\n",
       "    </tr>\n",
       "    <tr>\n",
       "      <th>1</th>\n",
       "      <td>greeting</td>\n",
       "      <td>Hii</td>\n",
       "      <td>[Hello there. Welcome to MindCouncel ,Tell me ...</td>\n",
       "    </tr>\n",
       "    <tr>\n",
       "      <th>2</th>\n",
       "      <td>greeting</td>\n",
       "      <td>Hy</td>\n",
       "      <td>[Hello there. Welcome to MindCouncel ,Tell me ...</td>\n",
       "    </tr>\n",
       "    <tr>\n",
       "      <th>3</th>\n",
       "      <td>greeting</td>\n",
       "      <td>Hey</td>\n",
       "      <td>[Hello there. Welcome to MindCouncel ,Tell me ...</td>\n",
       "    </tr>\n",
       "    <tr>\n",
       "      <th>4</th>\n",
       "      <td>greeting</td>\n",
       "      <td>Hello</td>\n",
       "      <td>[Hello there. Welcome to MindCouncel ,Tell me ...</td>\n",
       "    </tr>\n",
       "    <tr>\n",
       "      <th>...</th>\n",
       "      <td>...</td>\n",
       "      <td>...</td>\n",
       "      <td>...</td>\n",
       "    </tr>\n",
       "    <tr>\n",
       "      <th>238</th>\n",
       "      <td>fact-29</td>\n",
       "      <td>How do I know if I'm unwell?</td>\n",
       "      <td>[If your beliefs , thoughts , feelings or beha...</td>\n",
       "    </tr>\n",
       "    <tr>\n",
       "      <th>239</th>\n",
       "      <td>fact-30</td>\n",
       "      <td>How can I maintain social connections? What if...</td>\n",
       "      <td>[A lot of people are alone right now, but we d...</td>\n",
       "    </tr>\n",
       "    <tr>\n",
       "      <th>240</th>\n",
       "      <td>fact-31</td>\n",
       "      <td>What's the difference between anxiety and stress?</td>\n",
       "      <td>[Stress and anxiety are often used interchange...</td>\n",
       "    </tr>\n",
       "    <tr>\n",
       "      <th>241</th>\n",
       "      <td>fact-32</td>\n",
       "      <td>What's the difference between sadness and depr...</td>\n",
       "      <td>[Sadness is a normal reaction to a loss, disap...</td>\n",
       "    </tr>\n",
       "    <tr>\n",
       "      <th>242</th>\n",
       "      <td>fact-32</td>\n",
       "      <td>difference between sadness and depression</td>\n",
       "      <td>[Sadness is a normal reaction to a loss, disap...</td>\n",
       "    </tr>\n",
       "  </tbody>\n",
       "</table>\n",
       "<p>243 rows × 3 columns</p>\n",
       "</div>"
      ],
      "text/plain": [
       "          tag                                           patterns  \\\n",
       "0    greeting                                                 Hi   \n",
       "1    greeting                                                Hii   \n",
       "2    greeting                                                 Hy   \n",
       "3    greeting                                                Hey   \n",
       "4    greeting                                              Hello   \n",
       "..        ...                                                ...   \n",
       "238   fact-29                       How do I know if I'm unwell?   \n",
       "239   fact-30  How can I maintain social connections? What if...   \n",
       "240   fact-31  What's the difference between anxiety and stress?   \n",
       "241   fact-32  What's the difference between sadness and depr...   \n",
       "242   fact-32          difference between sadness and depression   \n",
       "\n",
       "                                             responses  \n",
       "0    [Hello there. Welcome to MindCouncel ,Tell me ...  \n",
       "1    [Hello there. Welcome to MindCouncel ,Tell me ...  \n",
       "2    [Hello there. Welcome to MindCouncel ,Tell me ...  \n",
       "3    [Hello there. Welcome to MindCouncel ,Tell me ...  \n",
       "4    [Hello there. Welcome to MindCouncel ,Tell me ...  \n",
       "..                                                 ...  \n",
       "238  [If your beliefs , thoughts , feelings or beha...  \n",
       "239  [A lot of people are alone right now, but we d...  \n",
       "240  [Stress and anxiety are often used interchange...  \n",
       "241  [Sadness is a normal reaction to a loss, disap...  \n",
       "242  [Sadness is a normal reaction to a loss, disap...  \n",
       "\n",
       "[243 rows x 3 columns]"
      ]
     },
     "execution_count": 23,
     "metadata": {},
     "output_type": "execute_result"
    }
   ],
   "source": [
    "dic = {\"tag\":[], \"patterns\":[], \"responses\":[]}\n",
    "for i in range(len(df)):\n",
    "    ptrns = df[df.index == i]['patterns'].values[0]\n",
    "    rspns = df[df.index == i]['responses'].values[0]\n",
    "    tag = df[df.index == i]['tag'].values[0]\n",
    "    for j in range(len(ptrns)):\n",
    "        dic['tag'].append(tag)\n",
    "        dic['patterns'].append(ptrns[j])\n",
    "        dic['responses'].append(rspns)\n",
    "        \n",
    "df = pd.DataFrame.from_dict(dic)\n",
    "df"
   ]
  },
  {
   "cell_type": "code",
   "execution_count": 24,
   "id": "ca42bed2",
   "metadata": {},
   "outputs": [
    {
     "data": {
      "text/plain": [
       "array(['greeting', 'morning', 'afternoon', 'evening', 'night', 'goodbye',\n",
       "       'thanks', 'no-response', 'neutral-response', 'about', 'skill',\n",
       "       'creation', 'name', 'help', 'sad', 'stressed', 'mental_health',\n",
       "       'worthless', 'depressed', 'happy', 'casual', 'anxious',\n",
       "       'not-talking', 'sleep', 'scared', 'death', 'understand', 'done',\n",
       "       'suicide', 'hate-you', 'hate-me', 'default', 'jokes', 'repeat',\n",
       "       'wrong', 'stupid', 'location', 'something-else', 'friends', 'ask',\n",
       "       'problem', 'no-approach', 'learn-more', 'user-agree', 'meditation',\n",
       "       'user-meditation', 'pandora-useful', 'user-advice',\n",
       "       'learn-mental-health', 'mental-health-fact', 'fact-1', 'fact-2',\n",
       "       'fact-3', 'fact-5', 'fact-6', 'fact-7', 'fact-8', 'fact-9',\n",
       "       'fact-10', 'fact-11', 'fact-12', 'fact-13', 'fact-14', 'fact-15',\n",
       "       'fact-16', 'fact-17', 'fact-18', 'fact-19', 'fact-20', 'fact-21',\n",
       "       'fact-22', 'fact-23', 'fact-24', 'fact-25', 'fact-26', 'fact-27',\n",
       "       'fact-28', 'fact-29', 'fact-30', 'fact-31', 'fact-32'],\n",
       "      dtype=object)"
      ]
     },
     "execution_count": 24,
     "metadata": {},
     "output_type": "execute_result"
    }
   ],
   "source": [
    "df['tag'].unique()"
   ]
  },
  {
   "cell_type": "code",
   "execution_count": 25,
   "id": "8d930dc0",
   "metadata": {},
   "outputs": [
    {
     "data": {
      "text/plain": [
       "{'num_words': None,\n",
       " 'filters': '!\"#$%&()*+,-./:;<=>?@[\\\\]^_`{|}~\\t\\n',\n",
       " 'lower': True,\n",
       " 'split': ' ',\n",
       " 'char_level': False,\n",
       " 'oov_token': None,\n",
       " 'document_count': 243,\n",
       " 'word_counts': '{\"hi\": 3, \"hii\": 2, \"hy\": 1, \"hey\": 2, \"hello\": 2, \"hlo\": 1, \"helo\": 1, \"is\": 15, \"anyone\": 2, \"there\": 5, \"howdy\": 1, \"hola\": 1, \"bonjour\": 1, \"konnichiwa\": 1, \"guten\": 1, \"tag\": 1, \"ola\": 1, \"good\": 5, \"morning\": 2, \"afternoon\": 1, \"evening\": 1, \"night\": 1, \"bye\": 3, \"see\": 2, \"you\": 39, \"later\": 1, \"goodbye\": 1, \"au\": 1, \"revoir\": 1, \"sayonara\": 1, \"ok\": 3, \"then\": 1, \"fare\": 1, \"thee\": 1, \"well\": 2, \"thanks\": 2, \"thank\": 3, \"that\\'s\": 3, \"helpful\": 1, \"for\": 10, \"the\": 10, \"help\": 6, \"than\": 1, \"very\": 3, \"much\": 4, \"nothing\": 3, \"who\": 6, \"are\": 15, \"what\": 31, \"tell\": 6, \"me\": 19, \"more\": 6, \"about\": 20, \"yourself\": 3, \"your\": 3, \"name\": 4, \"should\": 3, \"i\": 95, \"call\": 1, \"what\\'s\": 3, \"can\": 16, \"do\": 14, \"created\": 2, \"how\": 8, \"were\": 2, \"made\": 1, \"my\": 13, \"am\": 17, \"go\": 4, \"by\": 1, \"could\": 2, \"give\": 1, \"a\": 12, \"hand\": 1, \"please\": 2, \"need\": 6, \"support\": 3, \"feeling\": 1, \"lonely\": 4, \"so\": 10, \"feel\": 16, \"down\": 1, \"sad\": 2, \"empty\": 1, \"don\\'t\": 11, \"have\": 9, \"stressed\": 4, \"out\": 3, \"stuck\": 1, \"still\": 1, \"burned\": 1, \"mental\": 27, \"health\": 21, \"why\": 3, \"important\": 2, \"worthless\": 1, \"no\": 5, \"one\": 1, \"likes\": 1, \"can\\'t\": 7, \"anything\": 2, \"useless\": 2, \"makes\": 1, \"sense\": 2, \"anymore\": 2, \"take\": 1, \"it\": 7, \"depressed\": 3, \"think\": 3, \"i\\'m\": 9, \"depression\": 7, \"great\": 1, \"today\": 1, \"happy\": 2, \"cheerful\": 1, \"fine\": 2, \"okay\": 2, \"oh\": 1, \"nice\": 1, \"whatever\": 1, \"k\": 1, \"yeah\": 3, \"yes\": 2, \"not\": 5, \"really\": 2, \"anxious\": 2, \"because\": 4, \"of\": 8, \"want\": 9, \"to\": 24, \"talk\": 5, \"just\": 3, \"stay\": 1, \"away\": 4, \"bring\": 1, \"myself\": 7, \"open\": 1, \"up\": 2, \"shut\": 1, \"insominia\": 1, \"suffering\": 2, \"from\": 2, \"insomnia\": 1, \"sleep\": 3, \"haven\\'t\": 2, \"slept\": 1, \"last\": 1, \"days\": 2, \"seem\": 1, \"had\": 1, \"proper\": 1, \"past\": 1, \"few\": 1, \"scared\": 2, \"that\": 8, \"sounds\": 3, \"awful\": 1, \"this\": 3, \"way\": 1, \"mom\": 1, \"died\": 3, \"brother\": 1, \"dad\": 1, \"passed\": 3, \"sister\": 1, \"someone\": 2, \"in\": 3, \"family\": 2, \"friend\": 1, \"understand\": 1, \"you\\'re\": 5, \"some\": 4, \"robot\": 1, \"would\": 5, \"know\": 8, \"possibly\": 1, \"going\": 3, \"through\": 1, \"nobody\": 1, \"understands\": 1, \"all\": 4, \"say\": 2, \"else\": 4, \"be\": 2, \"kill\": 2, \"i\\'ve\": 2, \"thought\": 1, \"killing\": 1, \"die\": 1, \"commit\": 1, \"suicide\": 1, \"hate\": 3, \"like\": 6, \"trust\": 1, \"exams\": 4, \"friends\": 2, \"relationship\": 1, \"boyfriend\": 1, \"girlfriend\": 1, \"money\": 1, \"financial\": 1, \"problems\": 5, \"joke\": 2, \"another\": 2, \"already\": 2, \"told\": 1, \"mentioned\": 1, \"repeating\": 1, \"saying\": 1, \"doesn\\'t\": 1, \"make\": 1, \"wrong\": 2, \"response\": 1, \"answer\": 1, \"stupid\": 1, \"crazy\": 1, \"dumb\": 2, \"where\": 6, \"live\": 1, \"location\": 1, \"something\": 4, \"let\\'s\": 1, \"we\": 1, \"any\": 2, \"ask\": 1, \"probably\": 2, \"approaching\": 1, \"prepared\": 1, \"enough\": 1, \"guess\": 2, \"sure\": 1, \"learn\": 6, \"right\": 3, \"deserve\": 1, \"break\": 1, \"absolutely\": 1, \"hmmm\": 1, \"useful\": 2, \"did\": 1, \"said\": 1, \"and\": 5, \"alot\": 1, \"better\": 2, \"now\": 1, \"again\": 1, \"i\\'ll\": 1, \"continue\": 1, \"practicing\": 1, \"meditation\": 1, \"focus\": 1, \"on\": 2, \"control\": 1, \"advice\": 3, \"interested\": 1, \"learning\": 1, \"fact\": 2, \"define\": 2, \"importance\": 1, \"if\": 6, \"mentally\": 1, \"ill\": 1, \"therapist\": 2, \"does\": 3, \"therapy\": 4, \"mean\": 1, \"illness\": 5, \"affect\": 1, \"causes\": 2, \"warning\": 1, \"signs\": 1, \"people\": 1, \"with\": 1, \"recover\": 1, \"appears\": 1, \"symptoms\": 1, \"disorder\": 1, \"find\": 4, \"professional\": 2, \"or\": 2, \"child\": 2, \"treatment\": 3, \"options\": 1, \"available\": 1, \"become\": 1, \"involved\": 1, \"difference\": 4, \"between\": 4, \"professionals\": 2, \"get\": 1, \"before\": 1, \"starting\": 1, \"new\": 1, \"medication\": 1, \"types\": 2, \"different\": 1, \"group\": 1, \"prevent\": 1, \"cures\": 1, \"cure\": 1, \"worried\": 1, \"unwell\": 1, \"maintain\": 1, \"social\": 1, \"connections\": 1, \"anxiety\": 1, \"stress\": 1, \"sadness\": 2}',\n",
       " 'word_docs': '{\"hi\": 3, \"hii\": 2, \"hy\": 1, \"hey\": 2, \"hello\": 2, \"hlo\": 1, \"helo\": 1, \"anyone\": 2, \"is\": 15, \"there\": 5, \"howdy\": 1, \"hola\": 1, \"bonjour\": 1, \"konnichiwa\": 1, \"guten\": 1, \"tag\": 1, \"ola\": 1, \"morning\": 2, \"good\": 5, \"afternoon\": 1, \"evening\": 1, \"night\": 1, \"bye\": 3, \"later\": 1, \"you\": 38, \"see\": 2, \"goodbye\": 1, \"au\": 1, \"revoir\": 1, \"sayonara\": 1, \"ok\": 3, \"then\": 1, \"thee\": 1, \"fare\": 1, \"well\": 2, \"thanks\": 2, \"thank\": 3, \"helpful\": 1, \"that\\'s\": 3, \"for\": 10, \"the\": 10, \"help\": 6, \"very\": 3, \"than\": 1, \"much\": 4, \"nothing\": 3, \"who\": 6, \"are\": 15, \"what\": 31, \"about\": 20, \"tell\": 6, \"yourself\": 3, \"me\": 19, \"more\": 6, \"your\": 3, \"name\": 4, \"i\": 88, \"should\": 3, \"call\": 1, \"what\\'s\": 3, \"do\": 12, \"can\": 16, \"created\": 2, \"made\": 1, \"were\": 2, \"how\": 8, \"my\": 13, \"am\": 17, \"go\": 4, \"by\": 1, \"could\": 2, \"please\": 2, \"give\": 1, \"hand\": 1, \"a\": 12, \"need\": 6, \"support\": 3, \"lonely\": 4, \"feeling\": 1, \"so\": 10, \"feel\": 16, \"down\": 1, \"sad\": 2, \"empty\": 1, \"have\": 9, \"don\\'t\": 11, \"stressed\": 4, \"out\": 3, \"stuck\": 1, \"still\": 1, \"burned\": 1, \"health\": 21, \"mental\": 27, \"why\": 3, \"important\": 2, \"worthless\": 1, \"likes\": 1, \"one\": 1, \"no\": 5, \"anything\": 2, \"can\\'t\": 7, \"useless\": 2, \"sense\": 2, \"makes\": 1, \"anymore\": 2, \"take\": 1, \"it\": 7, \"depressed\": 3, \"think\": 3, \"i\\'m\": 9, \"depression\": 7, \"great\": 1, \"today\": 1, \"happy\": 2, \"cheerful\": 1, \"fine\": 2, \"okay\": 2, \"oh\": 1, \"nice\": 1, \"whatever\": 1, \"k\": 1, \"yeah\": 3, \"yes\": 2, \"really\": 2, \"not\": 5, \"anxious\": 2, \"of\": 7, \"because\": 3, \"want\": 9, \"talk\": 5, \"to\": 23, \"away\": 4, \"just\": 3, \"stay\": 1, \"up\": 2, \"myself\": 7, \"bring\": 1, \"open\": 1, \"shut\": 1, \"insominia\": 1, \"suffering\": 2, \"insomnia\": 1, \"from\": 2, \"sleep\": 3, \"haven\\'t\": 2, \"last\": 1, \"days\": 2, \"slept\": 1, \"seem\": 1, \"proper\": 1, \"had\": 1, \"few\": 1, \"past\": 1, \"scared\": 2, \"that\": 8, \"sounds\": 3, \"awful\": 1, \"way\": 1, \"this\": 3, \"mom\": 1, \"died\": 3, \"brother\": 1, \"passed\": 3, \"dad\": 1, \"sister\": 1, \"family\": 2, \"in\": 3, \"someone\": 2, \"friend\": 1, \"understand\": 1, \"robot\": 1, \"know\": 8, \"some\": 4, \"you\\'re\": 5, \"would\": 5, \"going\": 3, \"possibly\": 1, \"through\": 1, \"understands\": 1, \"nobody\": 1, \"all\": 4, \"say\": 2, \"else\": 4, \"be\": 2, \"kill\": 2, \"i\\'ve\": 2, \"killing\": 1, \"thought\": 1, \"die\": 1, \"commit\": 1, \"suicide\": 1, \"hate\": 3, \"like\": 6, \"trust\": 1, \"exams\": 4, \"friends\": 2, \"relationship\": 1, \"boyfriend\": 1, \"girlfriend\": 1, \"money\": 1, \"financial\": 1, \"problems\": 5, \"joke\": 2, \"another\": 2, \"told\": 1, \"already\": 2, \"mentioned\": 1, \"repeating\": 1, \"saying\": 1, \"doesn\\'t\": 1, \"make\": 1, \"response\": 1, \"wrong\": 2, \"answer\": 1, \"stupid\": 1, \"crazy\": 1, \"dumb\": 2, \"where\": 6, \"live\": 1, \"location\": 1, \"something\": 4, \"let\\'s\": 1, \"we\": 1, \"any\": 2, \"ask\": 1, \"approaching\": 1, \"probably\": 2, \"enough\": 1, \"prepared\": 1, \"guess\": 2, \"learn\": 6, \"sure\": 1, \"deserve\": 1, \"right\": 3, \"break\": 1, \"absolutely\": 1, \"hmmm\": 1, \"useful\": 2, \"said\": 1, \"did\": 1, \"and\": 5, \"better\": 2, \"alot\": 1, \"now\": 1, \"meditation\": 1, \"focus\": 1, \"practicing\": 1, \"continue\": 1, \"control\": 1, \"again\": 1, \"on\": 2, \"i\\'ll\": 1, \"advice\": 3, \"learning\": 1, \"interested\": 1, \"fact\": 2, \"define\": 2, \"importance\": 1, \"if\": 6, \"mentally\": 1, \"ill\": 1, \"therapist\": 2, \"does\": 3, \"therapy\": 4, \"mean\": 1, \"illness\": 5, \"affect\": 1, \"causes\": 2, \"warning\": 1, \"signs\": 1, \"recover\": 1, \"with\": 1, \"people\": 1, \"appears\": 1, \"symptoms\": 1, \"disorder\": 1, \"professional\": 2, \"find\": 4, \"or\": 2, \"child\": 2, \"options\": 1, \"treatment\": 3, \"available\": 1, \"become\": 1, \"involved\": 1, \"professionals\": 2, \"between\": 4, \"difference\": 4, \"get\": 1, \"medication\": 1, \"starting\": 1, \"new\": 1, \"before\": 1, \"types\": 2, \"different\": 1, \"group\": 1, \"prevent\": 1, \"cures\": 1, \"cure\": 1, \"worried\": 1, \"unwell\": 1, \"social\": 1, \"connections\": 1, \"maintain\": 1, \"anxiety\": 1, \"stress\": 1, \"sadness\": 2}',\n",
       " 'index_docs': '{\"67\": 3, \"97\": 2, \"155\": 1, \"98\": 2, \"99\": 2, \"156\": 1, \"157\": 1, \"100\": 2, \"12\": 15, \"41\": 5, \"158\": 1, \"159\": 1, \"160\": 1, \"161\": 1, \"162\": 1, \"163\": 1, \"164\": 1, \"101\": 2, \"42\": 5, \"165\": 1, \"166\": 1, \"167\": 1, \"68\": 3, \"168\": 1, \"2\": 38, \"102\": 2, \"169\": 1, \"170\": 1, \"171\": 1, \"172\": 1, \"69\": 3, \"173\": 1, \"175\": 1, \"174\": 1, \"103\": 2, \"104\": 2, \"70\": 3, \"176\": 1, \"71\": 3, \"18\": 10, \"19\": 10, \"32\": 6, \"72\": 3, \"177\": 1, \"51\": 4, \"73\": 3, \"33\": 6, \"13\": 15, \"3\": 31, \"7\": 20, \"34\": 6, \"74\": 3, \"8\": 19, \"35\": 6, \"75\": 3, \"52\": 4, \"1\": 88, \"76\": 3, \"178\": 1, \"77\": 3, \"14\": 12, \"10\": 16, \"105\": 2, \"179\": 1, \"106\": 2, \"24\": 8, \"15\": 13, \"9\": 17, \"53\": 4, \"180\": 1, \"107\": 2, \"108\": 2, \"181\": 1, \"182\": 1, \"16\": 12, \"36\": 6, \"78\": 3, \"54\": 4, \"183\": 1, \"20\": 10, \"11\": 16, \"184\": 1, \"109\": 2, \"185\": 1, \"21\": 9, \"17\": 11, \"55\": 4, \"79\": 3, \"186\": 1, \"187\": 1, \"188\": 1, \"6\": 21, \"4\": 27, \"80\": 3, \"110\": 2, \"189\": 1, \"191\": 1, \"190\": 1, \"43\": 5, \"111\": 2, \"28\": 7, \"112\": 2, \"113\": 2, \"192\": 1, \"114\": 2, \"193\": 1, \"29\": 7, \"81\": 3, \"82\": 3, \"22\": 9, \"30\": 7, \"194\": 1, \"195\": 1, \"115\": 2, \"196\": 1, \"116\": 2, \"117\": 2, \"197\": 1, \"198\": 1, \"199\": 1, \"200\": 1, \"83\": 3, \"118\": 2, \"119\": 2, \"44\": 5, \"120\": 2, \"25\": 7, \"56\": 3, \"23\": 9, \"45\": 5, \"5\": 23, \"57\": 4, \"84\": 3, \"201\": 1, \"121\": 2, \"31\": 7, \"202\": 1, \"203\": 1, \"204\": 1, \"205\": 1, \"122\": 2, \"206\": 1, \"123\": 2, \"85\": 3, \"124\": 2, \"208\": 1, \"125\": 2, \"207\": 1, \"209\": 1, \"211\": 1, \"210\": 1, \"213\": 1, \"212\": 1, \"126\": 2, \"26\": 8, \"86\": 3, \"214\": 1, \"215\": 1, \"87\": 3, \"216\": 1, \"88\": 3, \"217\": 1, \"89\": 3, \"218\": 1, \"219\": 1, \"128\": 2, \"90\": 3, \"127\": 2, \"220\": 1, \"221\": 1, \"222\": 1, \"27\": 8, \"58\": 4, \"46\": 5, \"47\": 5, \"91\": 3, \"223\": 1, \"224\": 1, \"226\": 1, \"225\": 1, \"59\": 4, \"129\": 2, \"60\": 4, \"130\": 2, \"131\": 2, \"132\": 2, \"228\": 1, \"227\": 1, \"229\": 1, \"230\": 1, \"231\": 1, \"92\": 3, \"37\": 6, \"232\": 1, \"61\": 4, \"133\": 2, \"233\": 1, \"234\": 1, \"235\": 1, \"236\": 1, \"237\": 1, \"48\": 5, \"134\": 2, \"135\": 2, \"238\": 1, \"136\": 2, \"239\": 1, \"240\": 1, \"241\": 1, \"242\": 1, \"243\": 1, \"244\": 1, \"137\": 2, \"245\": 1, \"246\": 1, \"247\": 1, \"138\": 2, \"38\": 6, \"248\": 1, \"249\": 1, \"62\": 4, \"250\": 1, \"251\": 1, \"139\": 2, \"252\": 1, \"253\": 1, \"140\": 2, \"255\": 1, \"254\": 1, \"141\": 2, \"39\": 6, \"256\": 1, \"257\": 1, \"93\": 3, \"258\": 1, \"259\": 1, \"260\": 1, \"142\": 2, \"262\": 1, \"261\": 1, \"49\": 5, \"143\": 2, \"263\": 1, \"264\": 1, \"269\": 1, \"270\": 1, \"268\": 1, \"267\": 1, \"271\": 1, \"265\": 1, \"144\": 2, \"266\": 1, \"94\": 3, \"273\": 1, \"272\": 1, \"145\": 2, \"146\": 2, \"274\": 1, \"40\": 6, \"275\": 1, \"276\": 1, \"147\": 2, \"95\": 3, \"63\": 4, \"277\": 1, \"50\": 5, \"278\": 1, \"148\": 2, \"279\": 1, \"280\": 1, \"283\": 1, \"282\": 1, \"281\": 1, \"284\": 1, \"285\": 1, \"286\": 1, \"149\": 2, \"64\": 4, \"150\": 2, \"151\": 2, \"287\": 1, \"96\": 3, \"288\": 1, \"289\": 1, \"290\": 1, \"152\": 2, \"66\": 4, \"65\": 4, \"291\": 1, \"295\": 1, \"293\": 1, \"294\": 1, \"292\": 1, \"153\": 2, \"296\": 1, \"297\": 1, \"298\": 1, \"299\": 1, \"300\": 1, \"301\": 1, \"302\": 1, \"304\": 1, \"305\": 1, \"303\": 1, \"306\": 1, \"307\": 1, \"154\": 2}',\n",
       " 'index_word': '{\"1\": \"i\", \"2\": \"you\", \"3\": \"what\", \"4\": \"mental\", \"5\": \"to\", \"6\": \"health\", \"7\": \"about\", \"8\": \"me\", \"9\": \"am\", \"10\": \"can\", \"11\": \"feel\", \"12\": \"is\", \"13\": \"are\", \"14\": \"do\", \"15\": \"my\", \"16\": \"a\", \"17\": \"don\\'t\", \"18\": \"for\", \"19\": \"the\", \"20\": \"so\", \"21\": \"have\", \"22\": \"i\\'m\", \"23\": \"want\", \"24\": \"how\", \"25\": \"of\", \"26\": \"that\", \"27\": \"know\", \"28\": \"can\\'t\", \"29\": \"it\", \"30\": \"depression\", \"31\": \"myself\", \"32\": \"help\", \"33\": \"who\", \"34\": \"tell\", \"35\": \"more\", \"36\": \"need\", \"37\": \"like\", \"38\": \"where\", \"39\": \"learn\", \"40\": \"if\", \"41\": \"there\", \"42\": \"good\", \"43\": \"no\", \"44\": \"not\", \"45\": \"talk\", \"46\": \"you\\'re\", \"47\": \"would\", \"48\": \"problems\", \"49\": \"and\", \"50\": \"illness\", \"51\": \"much\", \"52\": \"name\", \"53\": \"go\", \"54\": \"lonely\", \"55\": \"stressed\", \"56\": \"because\", \"57\": \"away\", \"58\": \"some\", \"59\": \"all\", \"60\": \"else\", \"61\": \"exams\", \"62\": \"something\", \"63\": \"therapy\", \"64\": \"find\", \"65\": \"difference\", \"66\": \"between\", \"67\": \"hi\", \"68\": \"bye\", \"69\": \"ok\", \"70\": \"thank\", \"71\": \"that\\'s\", \"72\": \"very\", \"73\": \"nothing\", \"74\": \"yourself\", \"75\": \"your\", \"76\": \"should\", \"77\": \"what\\'s\", \"78\": \"support\", \"79\": \"out\", \"80\": \"why\", \"81\": \"depressed\", \"82\": \"think\", \"83\": \"yeah\", \"84\": \"just\", \"85\": \"sleep\", \"86\": \"sounds\", \"87\": \"this\", \"88\": \"died\", \"89\": \"passed\", \"90\": \"in\", \"91\": \"going\", \"92\": \"hate\", \"93\": \"right\", \"94\": \"advice\", \"95\": \"does\", \"96\": \"treatment\", \"97\": \"hii\", \"98\": \"hey\", \"99\": \"hello\", \"100\": \"anyone\", \"101\": \"morning\", \"102\": \"see\", \"103\": \"well\", \"104\": \"thanks\", \"105\": \"created\", \"106\": \"were\", \"107\": \"could\", \"108\": \"please\", \"109\": \"sad\", \"110\": \"important\", \"111\": \"anything\", \"112\": \"useless\", \"113\": \"sense\", \"114\": \"anymore\", \"115\": \"happy\", \"116\": \"fine\", \"117\": \"okay\", \"118\": \"yes\", \"119\": \"really\", \"120\": \"anxious\", \"121\": \"up\", \"122\": \"suffering\", \"123\": \"from\", \"124\": \"haven\\'t\", \"125\": \"days\", \"126\": \"scared\", \"127\": \"someone\", \"128\": \"family\", \"129\": \"say\", \"130\": \"be\", \"131\": \"kill\", \"132\": \"i\\'ve\", \"133\": \"friends\", \"134\": \"joke\", \"135\": \"another\", \"136\": \"already\", \"137\": \"wrong\", \"138\": \"dumb\", \"139\": \"any\", \"140\": \"probably\", \"141\": \"guess\", \"142\": \"useful\", \"143\": \"better\", \"144\": \"on\", \"145\": \"fact\", \"146\": \"define\", \"147\": \"therapist\", \"148\": \"causes\", \"149\": \"professional\", \"150\": \"or\", \"151\": \"child\", \"152\": \"professionals\", \"153\": \"types\", \"154\": \"sadness\", \"155\": \"hy\", \"156\": \"hlo\", \"157\": \"helo\", \"158\": \"howdy\", \"159\": \"hola\", \"160\": \"bonjour\", \"161\": \"konnichiwa\", \"162\": \"guten\", \"163\": \"tag\", \"164\": \"ola\", \"165\": \"afternoon\", \"166\": \"evening\", \"167\": \"night\", \"168\": \"later\", \"169\": \"goodbye\", \"170\": \"au\", \"171\": \"revoir\", \"172\": \"sayonara\", \"173\": \"then\", \"174\": \"fare\", \"175\": \"thee\", \"176\": \"helpful\", \"177\": \"than\", \"178\": \"call\", \"179\": \"made\", \"180\": \"by\", \"181\": \"give\", \"182\": \"hand\", \"183\": \"feeling\", \"184\": \"down\", \"185\": \"empty\", \"186\": \"stuck\", \"187\": \"still\", \"188\": \"burned\", \"189\": \"worthless\", \"190\": \"one\", \"191\": \"likes\", \"192\": \"makes\", \"193\": \"take\", \"194\": \"great\", \"195\": \"today\", \"196\": \"cheerful\", \"197\": \"oh\", \"198\": \"nice\", \"199\": \"whatever\", \"200\": \"k\", \"201\": \"stay\", \"202\": \"bring\", \"203\": \"open\", \"204\": \"shut\", \"205\": \"insominia\", \"206\": \"insomnia\", \"207\": \"slept\", \"208\": \"last\", \"209\": \"seem\", \"210\": \"had\", \"211\": \"proper\", \"212\": \"past\", \"213\": \"few\", \"214\": \"awful\", \"215\": \"way\", \"216\": \"mom\", \"217\": \"brother\", \"218\": \"dad\", \"219\": \"sister\", \"220\": \"friend\", \"221\": \"understand\", \"222\": \"robot\", \"223\": \"possibly\", \"224\": \"through\", \"225\": \"nobody\", \"226\": \"understands\", \"227\": \"thought\", \"228\": \"killing\", \"229\": \"die\", \"230\": \"commit\", \"231\": \"suicide\", \"232\": \"trust\", \"233\": \"relationship\", \"234\": \"boyfriend\", \"235\": \"girlfriend\", \"236\": \"money\", \"237\": \"financial\", \"238\": \"told\", \"239\": \"mentioned\", \"240\": \"repeating\", \"241\": \"saying\", \"242\": \"doesn\\'t\", \"243\": \"make\", \"244\": \"response\", \"245\": \"answer\", \"246\": \"stupid\", \"247\": \"crazy\", \"248\": \"live\", \"249\": \"location\", \"250\": \"let\\'s\", \"251\": \"we\", \"252\": \"ask\", \"253\": \"approaching\", \"254\": \"prepared\", \"255\": \"enough\", \"256\": \"sure\", \"257\": \"deserve\", \"258\": \"break\", \"259\": \"absolutely\", \"260\": \"hmmm\", \"261\": \"did\", \"262\": \"said\", \"263\": \"alot\", \"264\": \"now\", \"265\": \"again\", \"266\": \"i\\'ll\", \"267\": \"continue\", \"268\": \"practicing\", \"269\": \"meditation\", \"270\": \"focus\", \"271\": \"control\", \"272\": \"interested\", \"273\": \"learning\", \"274\": \"importance\", \"275\": \"mentally\", \"276\": \"ill\", \"277\": \"mean\", \"278\": \"affect\", \"279\": \"warning\", \"280\": \"signs\", \"281\": \"people\", \"282\": \"with\", \"283\": \"recover\", \"284\": \"appears\", \"285\": \"symptoms\", \"286\": \"disorder\", \"287\": \"options\", \"288\": \"available\", \"289\": \"become\", \"290\": \"involved\", \"291\": \"get\", \"292\": \"before\", \"293\": \"starting\", \"294\": \"new\", \"295\": \"medication\", \"296\": \"different\", \"297\": \"group\", \"298\": \"prevent\", \"299\": \"cures\", \"300\": \"cure\", \"301\": \"worried\", \"302\": \"unwell\", \"303\": \"maintain\", \"304\": \"social\", \"305\": \"connections\", \"306\": \"anxiety\", \"307\": \"stress\"}',\n",
       " 'word_index': '{\"i\": 1, \"you\": 2, \"what\": 3, \"mental\": 4, \"to\": 5, \"health\": 6, \"about\": 7, \"me\": 8, \"am\": 9, \"can\": 10, \"feel\": 11, \"is\": 12, \"are\": 13, \"do\": 14, \"my\": 15, \"a\": 16, \"don\\'t\": 17, \"for\": 18, \"the\": 19, \"so\": 20, \"have\": 21, \"i\\'m\": 22, \"want\": 23, \"how\": 24, \"of\": 25, \"that\": 26, \"know\": 27, \"can\\'t\": 28, \"it\": 29, \"depression\": 30, \"myself\": 31, \"help\": 32, \"who\": 33, \"tell\": 34, \"more\": 35, \"need\": 36, \"like\": 37, \"where\": 38, \"learn\": 39, \"if\": 40, \"there\": 41, \"good\": 42, \"no\": 43, \"not\": 44, \"talk\": 45, \"you\\'re\": 46, \"would\": 47, \"problems\": 48, \"and\": 49, \"illness\": 50, \"much\": 51, \"name\": 52, \"go\": 53, \"lonely\": 54, \"stressed\": 55, \"because\": 56, \"away\": 57, \"some\": 58, \"all\": 59, \"else\": 60, \"exams\": 61, \"something\": 62, \"therapy\": 63, \"find\": 64, \"difference\": 65, \"between\": 66, \"hi\": 67, \"bye\": 68, \"ok\": 69, \"thank\": 70, \"that\\'s\": 71, \"very\": 72, \"nothing\": 73, \"yourself\": 74, \"your\": 75, \"should\": 76, \"what\\'s\": 77, \"support\": 78, \"out\": 79, \"why\": 80, \"depressed\": 81, \"think\": 82, \"yeah\": 83, \"just\": 84, \"sleep\": 85, \"sounds\": 86, \"this\": 87, \"died\": 88, \"passed\": 89, \"in\": 90, \"going\": 91, \"hate\": 92, \"right\": 93, \"advice\": 94, \"does\": 95, \"treatment\": 96, \"hii\": 97, \"hey\": 98, \"hello\": 99, \"anyone\": 100, \"morning\": 101, \"see\": 102, \"well\": 103, \"thanks\": 104, \"created\": 105, \"were\": 106, \"could\": 107, \"please\": 108, \"sad\": 109, \"important\": 110, \"anything\": 111, \"useless\": 112, \"sense\": 113, \"anymore\": 114, \"happy\": 115, \"fine\": 116, \"okay\": 117, \"yes\": 118, \"really\": 119, \"anxious\": 120, \"up\": 121, \"suffering\": 122, \"from\": 123, \"haven\\'t\": 124, \"days\": 125, \"scared\": 126, \"someone\": 127, \"family\": 128, \"say\": 129, \"be\": 130, \"kill\": 131, \"i\\'ve\": 132, \"friends\": 133, \"joke\": 134, \"another\": 135, \"already\": 136, \"wrong\": 137, \"dumb\": 138, \"any\": 139, \"probably\": 140, \"guess\": 141, \"useful\": 142, \"better\": 143, \"on\": 144, \"fact\": 145, \"define\": 146, \"therapist\": 147, \"causes\": 148, \"professional\": 149, \"or\": 150, \"child\": 151, \"professionals\": 152, \"types\": 153, \"sadness\": 154, \"hy\": 155, \"hlo\": 156, \"helo\": 157, \"howdy\": 158, \"hola\": 159, \"bonjour\": 160, \"konnichiwa\": 161, \"guten\": 162, \"tag\": 163, \"ola\": 164, \"afternoon\": 165, \"evening\": 166, \"night\": 167, \"later\": 168, \"goodbye\": 169, \"au\": 170, \"revoir\": 171, \"sayonara\": 172, \"then\": 173, \"fare\": 174, \"thee\": 175, \"helpful\": 176, \"than\": 177, \"call\": 178, \"made\": 179, \"by\": 180, \"give\": 181, \"hand\": 182, \"feeling\": 183, \"down\": 184, \"empty\": 185, \"stuck\": 186, \"still\": 187, \"burned\": 188, \"worthless\": 189, \"one\": 190, \"likes\": 191, \"makes\": 192, \"take\": 193, \"great\": 194, \"today\": 195, \"cheerful\": 196, \"oh\": 197, \"nice\": 198, \"whatever\": 199, \"k\": 200, \"stay\": 201, \"bring\": 202, \"open\": 203, \"shut\": 204, \"insominia\": 205, \"insomnia\": 206, \"slept\": 207, \"last\": 208, \"seem\": 209, \"had\": 210, \"proper\": 211, \"past\": 212, \"few\": 213, \"awful\": 214, \"way\": 215, \"mom\": 216, \"brother\": 217, \"dad\": 218, \"sister\": 219, \"friend\": 220, \"understand\": 221, \"robot\": 222, \"possibly\": 223, \"through\": 224, \"nobody\": 225, \"understands\": 226, \"thought\": 227, \"killing\": 228, \"die\": 229, \"commit\": 230, \"suicide\": 231, \"trust\": 232, \"relationship\": 233, \"boyfriend\": 234, \"girlfriend\": 235, \"money\": 236, \"financial\": 237, \"told\": 238, \"mentioned\": 239, \"repeating\": 240, \"saying\": 241, \"doesn\\'t\": 242, \"make\": 243, \"response\": 244, \"answer\": 245, \"stupid\": 246, \"crazy\": 247, \"live\": 248, \"location\": 249, \"let\\'s\": 250, \"we\": 251, \"ask\": 252, \"approaching\": 253, \"prepared\": 254, \"enough\": 255, \"sure\": 256, \"deserve\": 257, \"break\": 258, \"absolutely\": 259, \"hmmm\": 260, \"did\": 261, \"said\": 262, \"alot\": 263, \"now\": 264, \"again\": 265, \"i\\'ll\": 266, \"continue\": 267, \"practicing\": 268, \"meditation\": 269, \"focus\": 270, \"control\": 271, \"interested\": 272, \"learning\": 273, \"importance\": 274, \"mentally\": 275, \"ill\": 276, \"mean\": 277, \"affect\": 278, \"warning\": 279, \"signs\": 280, \"people\": 281, \"with\": 282, \"recover\": 283, \"appears\": 284, \"symptoms\": 285, \"disorder\": 286, \"options\": 287, \"available\": 288, \"become\": 289, \"involved\": 290, \"get\": 291, \"before\": 292, \"starting\": 293, \"new\": 294, \"medication\": 295, \"different\": 296, \"group\": 297, \"prevent\": 298, \"cures\": 299, \"cure\": 300, \"worried\": 301, \"unwell\": 302, \"maintain\": 303, \"social\": 304, \"connections\": 305, \"anxiety\": 306, \"stress\": 307}'}"
      ]
     },
     "execution_count": 25,
     "metadata": {},
     "output_type": "execute_result"
    }
   ],
   "source": [
    "from tensorflow.keras.preprocessing.text import Tokenizer\n",
    "\n",
    "tokenizer = Tokenizer(lower=True, split=' ')\n",
    "tokenizer.fit_on_texts(df['patterns'])\n",
    "tokenizer.get_config()"
   ]
  },
  {
   "cell_type": "code",
   "execution_count": 26,
   "id": "ba66ad0e",
   "metadata": {},
   "outputs": [
    {
     "name": "stdout",
     "output_type": "stream",
     "text": [
      "number of unique words =  307\n"
     ]
    }
   ],
   "source": [
    "vacab_size = len(tokenizer.word_index)\n",
    "print('number of unique words = ', vacab_size)"
   ]
  },
  {
   "cell_type": "code",
   "execution_count": 27,
   "id": "46c9f280",
   "metadata": {},
   "outputs": [
    {
     "name": "stdout",
     "output_type": "stream",
     "text": [
      "X shape =  (243, 18)\n",
      "y shape =  (243,)\n",
      "num of classes =  81\n"
     ]
    }
   ],
   "source": [
    "from tensorflow.keras.preprocessing.sequence import pad_sequences\n",
    "from sklearn.preprocessing import LabelEncoder\n",
    "\n",
    "ptrn2seq = tokenizer.texts_to_sequences(df['patterns'])\n",
    "X = pad_sequences(ptrn2seq, padding='post')\n",
    "print('X shape = ', X.shape)\n",
    "\n",
    "lbl_enc = LabelEncoder()\n",
    "y = lbl_enc.fit_transform(df['tag'])\n",
    "print('y shape = ', y.shape)\n",
    "print('num of classes = ', len(np.unique(y)))"
   ]
  },
  {
   "cell_type": "code",
   "execution_count": 28,
   "id": "7dc8b95e",
   "metadata": {},
   "outputs": [
    {
     "name": "stdout",
     "output_type": "stream",
     "text": [
      "Model: \"sequential_1\"\n",
      "_________________________________________________________________\n",
      " Layer (type)                Output Shape              Param #   \n",
      "=================================================================\n",
      " embedding_1 (Embedding)     (None, 18, 100)           30800     \n",
      "                                                                 \n",
      " lstm_3 (LSTM)               (None, 18, 32)            17024     \n",
      "                                                                 \n",
      " layer_normalization_5 (Lay  (None, 18, 32)            64        \n",
      " erNormalization)                                                \n",
      "                                                                 \n",
      " lstm_4 (LSTM)               (None, 18, 32)            8320      \n",
      "                                                                 \n",
      " layer_normalization_6 (Lay  (None, 18, 32)            64        \n",
      " erNormalization)                                                \n",
      "                                                                 \n",
      " lstm_5 (LSTM)               (None, 32)                8320      \n",
      "                                                                 \n",
      " layer_normalization_7 (Lay  (None, 32)                64        \n",
      " erNormalization)                                                \n",
      "                                                                 \n",
      " dense_3 (Dense)             (None, 128)               4224      \n",
      "                                                                 \n",
      " layer_normalization_8 (Lay  (None, 128)               256       \n",
      " erNormalization)                                                \n",
      "                                                                 \n",
      " dropout_2 (Dropout)         (None, 128)               0         \n",
      "                                                                 \n",
      " dense_4 (Dense)             (None, 128)               16512     \n",
      "                                                                 \n",
      " layer_normalization_9 (Lay  (None, 128)               256       \n",
      " erNormalization)                                                \n",
      "                                                                 \n",
      " dropout_3 (Dropout)         (None, 128)               0         \n",
      "                                                                 \n",
      " dense_5 (Dense)             (None, 81)                10449     \n",
      "                                                                 \n",
      "=================================================================\n",
      "Total params: 96353 (376.38 KB)\n",
      "Trainable params: 96353 (376.38 KB)\n",
      "Non-trainable params: 0 (0.00 Byte)\n",
      "_________________________________________________________________\n",
      "You must install pydot (`pip install pydot`) and install graphviz (see instructions at https://graphviz.gitlab.io/download/) for plot_model to work.\n"
     ]
    }
   ],
   "source": [
    "import tensorflow\n",
    "#import tensorflowjs as tfjs\n",
    "from tensorflow import keras\n",
    "from tensorflow.keras.models import Sequential\n",
    "from tensorflow.keras.layers import Input, Embedding, LSTM, LayerNormalization, Dense, Dropout\n",
    "from tensorflow.keras.utils import plot_model\n",
    "model = Sequential()\n",
    "#model=keras.models.load_model(\"my_model.h5\")\n",
    "model.add(Input(shape=(X.shape[1])))\n",
    "model.add(Embedding(input_dim=vacab_size+1, output_dim=100, mask_zero=True))\n",
    "model.add(LSTM(32, return_sequences=True))\n",
    "model.add(LayerNormalization())\n",
    "model.add(LSTM(32, return_sequences=True))\n",
    "model.add(LayerNormalization())\n",
    "model.add(LSTM(32))\n",
    "model.add(LayerNormalization())\n",
    "model.add(Dense(128, activation=\"relu\"))\n",
    "model.add(LayerNormalization())\n",
    "model.add(Dropout(0.2))\n",
    "model.add(Dense(128, activation=\"relu\"))\n",
    "model.add(LayerNormalization())\n",
    "model.add(Dropout(0.2))\n",
    "model.add(Dense(len(np.unique(y)), activation=\"softmax\"))\n",
    "model.compile(optimizer='adam', loss=\"sparse_categorical_crossentropy\", metrics=['accuracy'])\n",
    "#model.save(\"my_model.h5\")\n",
    "model.summary()\n",
    "plot_model(model, show_shapes=True)"
   ]
  },
  {
   "cell_type": "code",
   "execution_count": 29,
   "id": "83eb0671",
   "metadata": {},
   "outputs": [
    {
     "name": "stdout",
     "output_type": "stream",
     "text": [
      "Epoch 1/50\n",
      "25/25 [==============================] - 9s 14ms/step - loss: 4.9127 - accuracy: 0.0206\n",
      "Epoch 2/50\n",
      "25/25 [==============================] - 0s 15ms/step - loss: 3.7735 - accuracy: 0.1276\n",
      "Epoch 3/50\n",
      "25/25 [==============================] - 0s 14ms/step - loss: 3.2049 - accuracy: 0.2757\n",
      "Epoch 4/50\n",
      "25/25 [==============================] - 0s 14ms/step - loss: 2.6415 - accuracy: 0.3786\n",
      "Epoch 5/50\n",
      "25/25 [==============================] - 0s 14ms/step - loss: 2.2275 - accuracy: 0.4486\n",
      "Epoch 6/50\n",
      "25/25 [==============================] - 0s 14ms/step - loss: 1.9729 - accuracy: 0.5226\n",
      "Epoch 7/50\n",
      "25/25 [==============================] - 0s 14ms/step - loss: 1.5429 - accuracy: 0.6255\n",
      "Epoch 8/50\n",
      "25/25 [==============================] - 0s 14ms/step - loss: 1.3605 - accuracy: 0.6749\n",
      "Epoch 9/50\n",
      "25/25 [==============================] - 0s 14ms/step - loss: 1.1478 - accuracy: 0.7449\n",
      "Epoch 10/50\n",
      "25/25 [==============================] - 0s 14ms/step - loss: 0.9346 - accuracy: 0.8107\n",
      "Epoch 11/50\n",
      "25/25 [==============================] - 0s 14ms/step - loss: 0.7886 - accuracy: 0.8683\n",
      "Epoch 12/50\n",
      "25/25 [==============================] - 0s 14ms/step - loss: 0.6616 - accuracy: 0.8642\n",
      "Epoch 13/50\n",
      "25/25 [==============================] - 0s 14ms/step - loss: 0.5523 - accuracy: 0.8889\n",
      "Epoch 14/50\n",
      "25/25 [==============================] - 0s 14ms/step - loss: 0.5236 - accuracy: 0.8889\n",
      "Epoch 15/50\n",
      "25/25 [==============================] - 0s 14ms/step - loss: 0.4319 - accuracy: 0.9383\n",
      "Epoch 16/50\n",
      "25/25 [==============================] - 0s 14ms/step - loss: 0.3499 - accuracy: 0.9383\n",
      "Epoch 17/50\n",
      "25/25 [==============================] - 0s 14ms/step - loss: 0.3142 - accuracy: 0.9506\n",
      "Epoch 18/50\n",
      "25/25 [==============================] - 0s 14ms/step - loss: 0.2894 - accuracy: 0.9630\n",
      "Epoch 19/50\n",
      "25/25 [==============================] - 0s 13ms/step - loss: 0.2774 - accuracy: 0.9547\n",
      "Epoch 20/50\n",
      "25/25 [==============================] - 0s 14ms/step - loss: 0.2479 - accuracy: 0.9712\n",
      "Epoch 21/50\n",
      "25/25 [==============================] - 0s 14ms/step - loss: 0.2780 - accuracy: 0.9630\n",
      "Epoch 22/50\n",
      "25/25 [==============================] - 0s 13ms/step - loss: 0.1993 - accuracy: 0.9630\n",
      "Epoch 23/50\n",
      "25/25 [==============================] - 0s 13ms/step - loss: 0.1804 - accuracy: 0.9630\n"
     ]
    }
   ],
   "source": [
    "model_history = model.fit(x=X,\n",
    "                          y=y,\n",
    "                          batch_size=10,\n",
    "                          callbacks=[tensorflow.keras.callbacks.EarlyStopping(monitor='accuracy', patience=3)],\n",
    "                          epochs=50)\n",
    "#tfjs.converters.save_keras_model(model)"
   ]
  },
  {
   "cell_type": "code",
   "execution_count": 30,
   "id": "672c7afc",
   "metadata": {},
   "outputs": [
    {
     "data": {
      "image/png": "[encoded data removed]",
      "text/plain": [
       "<Figure size 1200x500 with 2 Axes>"
      ]
     },
     "metadata": {},
     "output_type": "display_data"
    }
   ],
   "source": [
    "import matplotlib.pyplot as plt\n",
    "import seaborn as sns\n",
    "\n",
    "# Assuming you have training history with 'loss' and 'accuracy' data\n",
    "history = {\n",
    "    'epoch': list(range(1, 6)),\n",
    "    'loss': [0.2, 0.15, 0.1, 0.08, 0.06],\n",
    "    'accuracy': [0.85, 0.90, 0.92, 0.94, 0.96]\n",
    "}\n",
    "\n",
    "# Set the style for the plots\n",
    "sns.set(style=\"whitegrid\")\n",
    "plt.figure(figsize=(12, 5))\n",
    "\n",
    "# Plot Loss\n",
    "plt.subplot(1, 2, 1)\n",
    "sns.lineplot(x='epoch', y='loss', data=history, marker='o', linestyle='-', label='Training Loss')\n",
    "plt.title('Training Loss')\n",
    "plt.xlabel('Epochs')\n",
    "plt.ylabel('Loss')\n",
    "\n",
    "# Plot Accuracy\n",
    "plt.subplot(1, 2, 2)\n",
    "sns.lineplot(x='epoch', y='accuracy', data=history, marker='o', linestyle='-', label='Training Accuracy')\n",
    "plt.title('Training Accuracy')\n",
    "plt.xlabel('Epochs')\n",
    "plt.ylabel('Accuracy')\n",
    "\n",
    "# Customize the legend\n",
    "plt.legend(loc='lower right')\n",
    "\n",
    "# Adjust subplot layout to prevent overlapping\n",
    "plt.tight_layout()\n",
    "\n",
    "# Show the plots\n",
    "plt.show()"
   ]
  },
  {
   "cell_type": "code",
   "execution_count": 12,
   "id": "47a63c8a",
   "metadata": {},
   "outputs": [],
   "source": [
    "import re\n",
    "import random\n",
    "\n",
    "def generate_answer(pattern): \n",
    "    text = []\n",
    "    txt = re.sub('[^a-zA-Z\\']', ' ', pattern)\n",
    "    txt = txt.lower()\n",
    "    txt = txt.split()\n",
    "    txt = \" \".join(txt)\n",
    "    text.append(txt)\n",
    "        \n",
    "    x_test = tokenizer.texts_to_sequences(text)\n",
    "    x_test = np.array(x_test).squeeze()\n",
    "    x_test = pad_sequences([x_test], padding='post', maxlen=X.shape[1])\n",
    "    y_pred = model.predict(x_test)\n",
    "    y_pred = y_pred.argmax()\n",
    "    tag = lbl_enc.inverse_transform([y_pred])[0]\n",
    "    responses = df[df['tag'] == tag]['responses'].values[0]\n",
    "\n",
    "    print(\"you: {}\".format(pattern))\n",
    "    print(\"model: {}\".format(random.choice(responses)))"
   ]
  },
  {
   "cell_type": "code",
   "execution_count": null,
   "id": "e5330e18",
   "metadata": {},
   "outputs": [],
   "source": []
  },
  {
   "cell_type": "code",
   "execution_count": 13,
   "id": "493bfbfa",
   "metadata": {},
   "outputs": [
    {
     "name": "stdout",
     "output_type": "stream",
     "text": [
      "1/1 [==============================] - 0s 20ms/step\n",
      "you: Well... I am feeling sad!\n",
      "model: Why do you think you feel this way?\n"
     ]
    }
   ],
   "source": [
    "generate_answer('Well... I am feeling sad!')"
   ]
  },
  {
   "cell_type": "code",
   "execution_count": 14,
   "id": "0cbc70ba",
   "metadata": {},
   "outputs": [
    {
     "name": "stdout",
     "output_type": "stream",
     "text": [
      "1/1 [==============================] - 0s 20ms/step\n",
      "you: feeling depressed\n",
      "model: Hello there. Glad to see you're back. What's going on in your world right now?\n"
     ]
    }
   ],
   "source": [
    "generate_answer('feeling depressed')"
   ]
  },
  {
   "cell_type": "code",
   "execution_count": 15,
   "id": "35e442f2",
   "metadata": {},
   "outputs": [
    {
     "name": "stdout",
     "output_type": "stream",
     "text": [
      "1/1 [==============================] - 0s 25ms/step\n",
      "you: i am completely down today\n",
      "model: Why do you think you feel this way?\n"
     ]
    }
   ],
   "source": [
    "generate_answer('i am completely down today')"
   ]
  },
  {
   "cell_type": "code",
   "execution_count": 16,
   "id": "b79b3c65",
   "metadata": {},
   "outputs": [
    {
     "name": "stdout",
     "output_type": "stream",
     "text": [
      "1/1 [==============================] - 0s 19ms/step\n",
      "you: i am completely down today\n",
      "model: I'm here for you. Could you tell me why you're feeling this way?\n"
     ]
    }
   ],
   "source": [
    "generate_answer('i am completely down today')\n"
   ]
  },
  {
   "cell_type": "code",
   "execution_count": 17,
   "id": "82f27440",
   "metadata": {},
   "outputs": [
    {
     "name": "stdout",
     "output_type": "stream",
     "text": [
      "1/1 [==============================] - 0s 22ms/step\n",
      "you: i need assistance\n",
      "model: Sure. Tell me how can i assist you\n"
     ]
    }
   ],
   "source": [
    "generate_answer('i need assistance')"
   ]
  },
  {
   "cell_type": "code",
   "execution_count": 18,
   "id": "089c6596",
   "metadata": {},
   "outputs": [
    {
     "name": "stdout",
     "output_type": "stream",
     "text": [
      "1/1 [==============================] - 0s 24ms/step\n",
      "you: i need your help\n",
      "model: Sure. Tell me how can i assist you\n"
     ]
    }
   ],
   "source": [
    "generate_answer('i need your help')"
   ]
  },
  {
   "cell_type": "code",
   "execution_count": 19,
   "id": "d39858e5",
   "metadata": {},
   "outputs": [
    {
     "name": "stdout",
     "output_type": "stream",
     "text": [
      "1/1 [==============================] - 0s 24ms/step\n",
      "you: i am feeling like need medical help\n",
      "model: If your beliefs , thoughts , feelings or behaviours have a significant impact on your ability to function in what might be considered a normal or ordinary way, it would be important to seek help.\n"
     ]
    }
   ],
   "source": [
    "generate_answer('i am feeling like need medical help')"
   ]
  },
  {
   "cell_type": "code",
   "execution_count": 20,
   "id": "f478dedc",
   "metadata": {},
   "outputs": [
    {
     "name": "stdout",
     "output_type": "stream",
     "text": [
      "1/1 [==============================] - 0s 19ms/step\n",
      "you: i feel i am mentally ill\n",
      "model: For a diagnosis of depression, a person needs to have experienced low mood or loss of interest or pleasure in life for at least 2 weeks. Also, they will have experienced the following symptoms: feelings of sadness, hopelessness, or irritability nearly every day.\n"
     ]
    }
   ],
   "source": [
    "generate_answer('i feel i am mentally ill')"
   ]
  },
  {
   "cell_type": "code",
   "execution_count": 22,
   "id": "7adb3fcf",
   "metadata": {},
   "outputs": [
    {
     "name": "stdout",
     "output_type": "stream",
     "text": [
      "1/1 [==============================] - 0s 33ms/step\n",
      "you: i need your help\n",
      "model: Yes, sure. How can I help you?\n"
     ]
    }
   ],
   "source": [
    "generate_answer('i need your help')"
   ]
  },
  {
   "cell_type": "markdown",
   "id": "dc0708d0",
   "metadata": {},
   "source": [
    "## GUI Started\n"
   ]
  },
  {
   "cell_type": "code",
   "execution_count": 41,
   "id": "62ff9565",
   "metadata": {},
   "outputs": [
    {
     "name": "stdout",
     "output_type": "stream",
     "text": [
      "1/1 [==============================] - 0s 27ms/step\n"
     ]
    },
    {
     "name": "stderr",
     "output_type": "stream",
     "text": [
      "Exception in Tkinter callback\n",
      "Traceback (most recent call last):\n",
      "  File \"C:\\Users\\swain\\anaconda3\\lib\\tkinter\\__init__.py\", line 1921, in __call__\n",
      "    return self.func(*args)\n",
      "  File \"C:\\Users\\swain\\AppData\\Local\\Temp\\ipykernel_3172\\1009280953.py\", line 9, in process_user_input\n",
      "    generate_answer(user_input)  # Call your generate_answer function\n",
      "  File \"C:\\Users\\swain\\AppData\\Local\\Temp\\ipykernel_3172\\1009280953.py\", line 65, in generate_answer\n",
      "    update_conversation(user_message, ai_message)\n",
      "  File \"C:\\Users\\swain\\AppData\\Local\\Temp\\ipykernel_3172\\1009280953.py\", line 43, in update_conversation\n",
      "    conversation_text.tag_configure(\"ai\", foreground=\"gree\")\n",
      "  File \"C:\\Users\\swain\\anaconda3\\lib\\tkinter\\__init__.py\", line 3898, in tag_configure\n",
      "    return self._configure(('tag', 'configure', tagName), cnf, kw)\n",
      "  File \"C:\\Users\\swain\\anaconda3\\lib\\tkinter\\__init__.py\", line 1665, in _configure\n",
      "    self.tk.call(_flatten((self._w, cmd)) + self._options(cnf))\n",
      "_tkinter.TclError: unknown color name \"gree\"\n"
     ]
    },
    {
     "name": "stdout",
     "output_type": "stream",
     "text": [
      "1/1 [==============================] - 0s 18ms/step\n"
     ]
    },
    {
     "name": "stderr",
     "output_type": "stream",
     "text": [
      "Exception in Tkinter callback\n",
      "Traceback (most recent call last):\n",
      "  File \"C:\\Users\\swain\\anaconda3\\lib\\tkinter\\__init__.py\", line 1921, in __call__\n",
      "    return self.func(*args)\n",
      "  File \"C:\\Users\\swain\\AppData\\Local\\Temp\\ipykernel_3172\\1009280953.py\", line 9, in process_user_input\n",
      "    generate_answer(user_input)  # Call your generate_answer function\n",
      "  File \"C:\\Users\\swain\\AppData\\Local\\Temp\\ipykernel_3172\\1009280953.py\", line 65, in generate_answer\n",
      "    update_conversation(user_message, ai_message)\n",
      "  File \"C:\\Users\\swain\\AppData\\Local\\Temp\\ipykernel_3172\\1009280953.py\", line 43, in update_conversation\n",
      "    conversation_text.tag_configure(\"ai\", foreground=\"gree\")\n",
      "  File \"C:\\Users\\swain\\anaconda3\\lib\\tkinter\\__init__.py\", line 3898, in tag_configure\n",
      "    return self._configure(('tag', 'configure', tagName), cnf, kw)\n",
      "  File \"C:\\Users\\swain\\anaconda3\\lib\\tkinter\\__init__.py\", line 1665, in _configure\n",
      "    self.tk.call(_flatten((self._w, cmd)) + self._options(cnf))\n",
      "_tkinter.TclError: unknown color name \"gree\"\n"
     ]
    },
    {
     "name": "stdout",
     "output_type": "stream",
     "text": [
      "1/1 [==============================] - 0s 24ms/step\n"
     ]
    },
    {
     "name": "stderr",
     "output_type": "stream",
     "text": [
      "Exception in Tkinter callback\n",
      "Traceback (most recent call last):\n",
      "  File \"C:\\Users\\swain\\anaconda3\\lib\\tkinter\\__init__.py\", line 1921, in __call__\n",
      "    return self.func(*args)\n",
      "  File \"C:\\Users\\swain\\AppData\\Local\\Temp\\ipykernel_3172\\1009280953.py\", line 9, in process_user_input\n",
      "    generate_answer(user_input)  # Call your generate_answer function\n",
      "  File \"C:\\Users\\swain\\AppData\\Local\\Temp\\ipykernel_3172\\1009280953.py\", line 65, in generate_answer\n",
      "    update_conversation(user_message, ai_message)\n",
      "  File \"C:\\Users\\swain\\AppData\\Local\\Temp\\ipykernel_3172\\1009280953.py\", line 43, in update_conversation\n",
      "    conversation_text.tag_configure(\"ai\", foreground=\"gree\")\n",
      "  File \"C:\\Users\\swain\\anaconda3\\lib\\tkinter\\__init__.py\", line 3898, in tag_configure\n",
      "    return self._configure(('tag', 'configure', tagName), cnf, kw)\n",
      "  File \"C:\\Users\\swain\\anaconda3\\lib\\tkinter\\__init__.py\", line 1665, in _configure\n",
      "    self.tk.call(_flatten((self._w, cmd)) + self._options(cnf))\n",
      "_tkinter.TclError: unknown color name \"gree\"\n"
     ]
    },
    {
     "name": "stdout",
     "output_type": "stream",
     "text": [
      "1/1 [==============================] - 0s 18ms/step\n"
     ]
    },
    {
     "name": "stderr",
     "output_type": "stream",
     "text": [
      "Exception in Tkinter callback\n",
      "Traceback (most recent call last):\n",
      "  File \"C:\\Users\\swain\\anaconda3\\lib\\tkinter\\__init__.py\", line 1921, in __call__\n",
      "    return self.func(*args)\n",
      "  File \"C:\\Users\\swain\\AppData\\Local\\Temp\\ipykernel_3172\\1009280953.py\", line 9, in process_user_input\n",
      "    generate_answer(user_input)  # Call your generate_answer function\n",
      "  File \"C:\\Users\\swain\\AppData\\Local\\Temp\\ipykernel_3172\\1009280953.py\", line 65, in generate_answer\n",
      "    update_conversation(user_message, ai_message)\n",
      "  File \"C:\\Users\\swain\\AppData\\Local\\Temp\\ipykernel_3172\\1009280953.py\", line 43, in update_conversation\n",
      "    conversation_text.tag_configure(\"ai\", foreground=\"gree\")\n",
      "  File \"C:\\Users\\swain\\anaconda3\\lib\\tkinter\\__init__.py\", line 3898, in tag_configure\n",
      "    return self._configure(('tag', 'configure', tagName), cnf, kw)\n",
      "  File \"C:\\Users\\swain\\anaconda3\\lib\\tkinter\\__init__.py\", line 1665, in _configure\n",
      "    self.tk.call(_flatten((self._w, cmd)) + self._options(cnf))\n",
      "_tkinter.TclError: unknown color name \"gree\"\n"
     ]
    },
    {
     "name": "stdout",
     "output_type": "stream",
     "text": [
      "1/1 [==============================] - 0s 15ms/step\n"
     ]
    },
    {
     "name": "stderr",
     "output_type": "stream",
     "text": [
      "Exception in Tkinter callback\n",
      "Traceback (most recent call last):\n",
      "  File \"C:\\Users\\swain\\anaconda3\\lib\\tkinter\\__init__.py\", line 1921, in __call__\n",
      "    return self.func(*args)\n",
      "  File \"C:\\Users\\swain\\AppData\\Local\\Temp\\ipykernel_3172\\1009280953.py\", line 9, in process_user_input\n",
      "    generate_answer(user_input)  # Call your generate_answer function\n",
      "  File \"C:\\Users\\swain\\AppData\\Local\\Temp\\ipykernel_3172\\1009280953.py\", line 65, in generate_answer\n",
      "    update_conversation(user_message, ai_message)\n",
      "  File \"C:\\Users\\swain\\AppData\\Local\\Temp\\ipykernel_3172\\1009280953.py\", line 43, in update_conversation\n",
      "    conversation_text.tag_configure(\"ai\", foreground=\"gree\")\n",
      "  File \"C:\\Users\\swain\\anaconda3\\lib\\tkinter\\__init__.py\", line 3898, in tag_configure\n",
      "    return self._configure(('tag', 'configure', tagName), cnf, kw)\n",
      "  File \"C:\\Users\\swain\\anaconda3\\lib\\tkinter\\__init__.py\", line 1665, in _configure\n",
      "    self.tk.call(_flatten((self._w, cmd)) + self._options(cnf))\n",
      "_tkinter.TclError: unknown color name \"gree\"\n"
     ]
    },
    {
     "name": "stdout",
     "output_type": "stream",
     "text": [
      "1/1 [==============================] - 0s 16ms/step\n"
     ]
    },
    {
     "name": "stderr",
     "output_type": "stream",
     "text": [
      "Exception in Tkinter callback\n",
      "Traceback (most recent call last):\n",
      "  File \"C:\\Users\\swain\\anaconda3\\lib\\tkinter\\__init__.py\", line 1921, in __call__\n",
      "    return self.func(*args)\n",
      "  File \"C:\\Users\\swain\\AppData\\Local\\Temp\\ipykernel_3172\\1009280953.py\", line 9, in process_user_input\n",
      "    generate_answer(user_input)  # Call your generate_answer function\n",
      "  File \"C:\\Users\\swain\\AppData\\Local\\Temp\\ipykernel_3172\\1009280953.py\", line 65, in generate_answer\n",
      "    update_conversation(user_message, ai_message)\n",
      "  File \"C:\\Users\\swain\\AppData\\Local\\Temp\\ipykernel_3172\\1009280953.py\", line 43, in update_conversation\n",
      "    conversation_text.tag_configure(\"ai\", foreground=\"gree\")\n",
      "  File \"C:\\Users\\swain\\anaconda3\\lib\\tkinter\\__init__.py\", line 3898, in tag_configure\n",
      "    return self._configure(('tag', 'configure', tagName), cnf, kw)\n",
      "  File \"C:\\Users\\swain\\anaconda3\\lib\\tkinter\\__init__.py\", line 1665, in _configure\n",
      "    self.tk.call(_flatten((self._w, cmd)) + self._options(cnf))\n",
      "_tkinter.TclError: unknown color name \"gree\"\n",
      "Exception in Tkinter callback\n",
      "Traceback (most recent call last):\n",
      "  File \"C:\\Users\\swain\\anaconda3\\lib\\site-packages\\keras\\src\\utils\\data_utils.py\", line 1097, in pad_sequences\n",
      "    lengths.append(len(x))\n",
      "TypeError: len() of unsized object\n",
      "\n",
      "The above exception was the direct cause of the following exception:\n",
      "\n",
      "Traceback (most recent call last):\n",
      "  File \"C:\\Users\\swain\\anaconda3\\lib\\tkinter\\__init__.py\", line 1921, in __call__\n",
      "    return self.func(*args)\n",
      "  File \"C:\\Users\\swain\\AppData\\Local\\Temp\\ipykernel_3172\\1009280953.py\", line 9, in process_user_input\n",
      "    generate_answer(user_input)  # Call your generate_answer function\n",
      "  File \"C:\\Users\\swain\\AppData\\Local\\Temp\\ipykernel_3172\\1009280953.py\", line 56, in generate_answer\n",
      "    x_test = pad_sequences([x_test], padding='post', maxlen=X.shape[1])\n",
      "  File \"C:\\Users\\swain\\anaconda3\\lib\\site-packages\\keras\\src\\utils\\data_utils.py\", line 1102, in pad_sequences\n",
      "    raise ValueError(\n",
      "ValueError: `sequences` must be a list of iterables. Found non-iterable: 69\n",
      "Exception in Tkinter callback\n",
      "Traceback (most recent call last):\n",
      "  File \"C:\\Users\\swain\\anaconda3\\lib\\site-packages\\keras\\src\\utils\\data_utils.py\", line 1097, in pad_sequences\n",
      "    lengths.append(len(x))\n",
      "TypeError: len() of unsized object\n",
      "\n",
      "The above exception was the direct cause of the following exception:\n",
      "\n",
      "Traceback (most recent call last):\n",
      "  File \"C:\\Users\\swain\\anaconda3\\lib\\tkinter\\__init__.py\", line 1921, in __call__\n",
      "    return self.func(*args)\n",
      "  File \"C:\\Users\\swain\\AppData\\Local\\Temp\\ipykernel_3172\\1009280953.py\", line 9, in process_user_input\n",
      "    generate_answer(user_input)  # Call your generate_answer function\n",
      "  File \"C:\\Users\\swain\\AppData\\Local\\Temp\\ipykernel_3172\\1009280953.py\", line 56, in generate_answer\n",
      "    x_test = pad_sequences([x_test], padding='post', maxlen=X.shape[1])\n",
      "  File \"C:\\Users\\swain\\anaconda3\\lib\\site-packages\\keras\\src\\utils\\data_utils.py\", line 1102, in pad_sequences\n",
      "    raise ValueError(\n",
      "ValueError: `sequences` must be a list of iterables. Found non-iterable: 200\n"
     ]
    },
    {
     "name": "stdout",
     "output_type": "stream",
     "text": [
      "1/1 [==============================] - 0s 20ms/step\n"
     ]
    },
    {
     "name": "stderr",
     "output_type": "stream",
     "text": [
      "Exception in Tkinter callback\n",
      "Traceback (most recent call last):\n",
      "  File \"C:\\Users\\swain\\anaconda3\\lib\\tkinter\\__init__.py\", line 1921, in __call__\n",
      "    return self.func(*args)\n",
      "  File \"C:\\Users\\swain\\AppData\\Local\\Temp\\ipykernel_3172\\1009280953.py\", line 9, in process_user_input\n",
      "    generate_answer(user_input)  # Call your generate_answer function\n",
      "  File \"C:\\Users\\swain\\AppData\\Local\\Temp\\ipykernel_3172\\1009280953.py\", line 65, in generate_answer\n",
      "    update_conversation(user_message, ai_message)\n",
      "  File \"C:\\Users\\swain\\AppData\\Local\\Temp\\ipykernel_3172\\1009280953.py\", line 43, in update_conversation\n",
      "    conversation_text.tag_configure(\"ai\", foreground=\"gree\")\n",
      "  File \"C:\\Users\\swain\\anaconda3\\lib\\tkinter\\__init__.py\", line 3898, in tag_configure\n",
      "    return self._configure(('tag', 'configure', tagName), cnf, kw)\n",
      "  File \"C:\\Users\\swain\\anaconda3\\lib\\tkinter\\__init__.py\", line 1665, in _configure\n",
      "    self.tk.call(_flatten((self._w, cmd)) + self._options(cnf))\n",
      "_tkinter.TclError: unknown color name \"gree\"\n"
     ]
    }
   ],
   "source": [
    "import tkinter as tk\n",
    "from tkinter import font\n",
    "\n",
    "# Function to handle user input and display responses\n",
    "def process_user_input(event=None):\n",
    "    user_input = user_input_entry.get()\n",
    "    user_input_entry.delete(0, tk.END)  # Clear the input field\n",
    "\n",
    "    generate_answer(user_input)  # Call your generate_answer function\n",
    "\n",
    "# Create the main application window\n",
    "app = tk.Tk()\n",
    "app.title(\"Mental Health AI\")\n",
    "\n",
    "# Configure font style and size\n",
    "custom_font = font.nametofont(\"TkDefaultFont\")\n",
    "custom_font.configure(size=14, weight=\"bold\")\n",
    "\n",
    "# Create a text box for displaying the conversation with dark theme\n",
    "conversation_text = tk.Text(app, height=10, width=40, background=\"black\", foreground=\"green\", font=custom_font)\n",
    "conversation_text.grid(row=0, column=0, columnspan=2, sticky=\"nsew\")\n",
    "conversation_text.grid_rowconfigure(0, weight=1)\n",
    "conversation_text.grid_columnconfigure(0, weight=1)\n",
    "\n",
    "# Create an entry field for user input with a red foreground\n",
    "user_input_entry = tk.Entry(app, foreground=\"red\", font=custom_font)\n",
    "user_input_entry.grid(row=1, column=0, sticky=\"nsew\")\n",
    "user_input_entry.grid_rowconfigure(1, weight=1)\n",
    "\n",
    "# Create a \"Send\" button with a dark background and white foreground\n",
    "send_button = tk.Button(app, text=\"Send\", command=process_user_input, background=\"green\", foreground=\"white\", font=custom_font)\n",
    "send_button.grid(row=1, column=1, sticky=\"nsew\")\n",
    "send_button.grid_rowconfigure(1, weight=1)\n",
    "\n",
    "# Function to update the conversation display with user and AI messages\n",
    "def update_conversation(user_message, ai_message):\n",
    "    conversation_text.insert(tk.END, \"User: \" + user_message + \"\\n\", \"user\")\n",
    "    conversation_text.insert(tk.END, \"AI: \" + ai_message + \"\\n\", \"ai\")\n",
    "    conversation_text.see(tk.END)  # Scroll to the latest message\n",
    "\n",
    "    # Apply the appropriate tags for coloring\n",
    "    conversation_text.tag_configure(\"user\", foreground=\"red\")\n",
    "    conversation_text.tag_configure(\"ai\", foreground=\"gree\")\n",
    "\n",
    "# Function to generate AI responses\n",
    "def generate_answer(pattern):\n",
    "    text = []\n",
    "    txt = re.sub('[^a-zA-Z\\']', ' ', pattern)\n",
    "    txt = txt.lower()\n",
    "    txt = txt.split()\n",
    "    txt = \" \".join(txt)\n",
    "    text.append(txt)\n",
    "\n",
    "    x_test = tokenizer.texts_to_sequences(text)\n",
    "    x_test = np.array(x_test).squeeze()\n",
    "    x_test = pad_sequences([x_test], padding='post', maxlen=X.shape[1])\n",
    "    y_pred = model.predict(x_test)\n",
    "    y_pred = y_pred.argmax()\n",
    "    tag = lbl_enc.inverse_transform([y_pred])[0]\n",
    "    responses = df[df['tag'] == tag]['responses'].values[0]\n",
    "\n",
    "    user_message = pattern\n",
    "    ai_message = random.choice(responses)\n",
    "\n",
    "    update_conversation(user_message, ai_message)\n",
    "\n",
    "# Bind the \"Enter\" key to the user input entry field\n",
    "user_input_entry.bind(\"<Return>\", process_user_input)\n",
    "\n",
    "# Allow window resizing\n",
    "app.rowconfigure(0, weight=1)\n",
    "app.columnconfigure(0, weight=1)\n",
    "\n",
    "# Start the application\n",
    "app.mainloop()\n"
   ]
  },
  {
   "cell_type": "code",
   "execution_count": null,
   "id": "51ec1d55",
   "metadata": {},
   "outputs": [],
   "source": []
  }
 ],
 "metadata": {
  "kernelspec": {
   "display_name": "Python 3 (ipykernel)",
   "language": "python",
   "name": "python3"
  },
  "language_info": {
   "codemirror_mode": {
    "name": "ipython",
    "version": 3
   },
   "file_extension": ".py",
   "mimetype": "text/x-python",
   "name": "python",
   "nbconvert_exporter": "python",
   "pygments_lexer": "ipython3",
   "version": "3.10.9"
  }
 },
 "nbformat": 4,
 "nbformat_minor": 5
}
